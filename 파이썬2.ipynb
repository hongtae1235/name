{
  "nbformat": 4,
  "nbformat_minor": 0,
  "metadata": {
    "colab": {
      "provenance": [],
      "authorship_tag": "ABX9TyOs4bKwO09NbQXnWsSUVt4u",
      "include_colab_link": true
    },
    "kernelspec": {
      "name": "python3",
      "display_name": "Python 3"
    },
    "language_info": {
      "name": "python"
    }
  },
  "cells": [
    {
      "cell_type": "markdown",
      "metadata": {
        "id": "view-in-github",
        "colab_type": "text"
      },
      "source": [
        "<a href=\"https://colab.research.google.com/github/hongtae1235/name/blob/main/%ED%8C%8C%EC%9D%B4%EC%8D%AC2.ipynb\" target=\"_parent\"><img src=\"https://colab.research.google.com/assets/colab-badge.svg\" alt=\"Open In Colab\"/></a>"
      ]
    },
    {
      "cell_type": "code",
      "execution_count": null,
      "metadata": {
        "id": "HXCdDA0ieblq",
        "colab": {
          "base_uri": "https://localhost:8080/"
        },
        "outputId": "cb5100c5-8e06-46b6-df9a-2aae96e96c17"
      },
      "outputs": [
        {
          "output_type": "stream",
          "name": "stdout",
          "text": [
            "[0, 1, 2, 3, 4, 5, 6, 7, 8, 9]\n",
            "[0, 1, 4, 9, 16, 25, 36, 49, 64, 81]\n",
            "[0, 2, 4, 6, 8]\n",
            "[0, 4, 16, 36, 64]\n"
          ]
        }
      ],
      "source": [
        "lst= [x for x in range(10)]\n",
        "print(lst)\n",
        "lst= [x*x for x in range(10)]\n",
        "print(lst)\n",
        "lst= [x for x in range(10) if x%2==0]\n",
        "print(lst)\n",
        "lst= [x**2 for x in range(10) if x%2==0]\n",
        "print(lst)"
      ]
    },
    {
      "cell_type": "code",
      "source": [
        "lst = [x.upper() for x in \"hello\"]\n",
        "print(lst)\n",
        "words = ['welcome', 'to', 'the', 'python', 'world']\n",
        "lst = [w[0].upper() for w in words]\n",
        "print(lst)"
      ],
      "metadata": {
        "colab": {
          "base_uri": "https://localhost:8080/"
        },
        "id": "X-hnZhJQe56R",
        "outputId": "c4cc61e8-a2f4-4596-fbc8-6b5849edc66f"
      },
      "execution_count": null,
      "outputs": [
        {
          "output_type": "stream",
          "name": "stdout",
          "text": [
            "['H', 'E', 'L', 'L', 'O']\n",
            "['W', 'T', 'T', 'P', 'W']\n"
          ]
        }
      ]
    },
    {
      "cell_type": "code",
      "source": [
        "lst = [\"hello\", \"123\", \"world\", \"456\"]\n",
        "numbers = [x for x in lst if x.isdigit()]\n",
        "print(numbers)"
      ],
      "metadata": {
        "colab": {
          "base_uri": "https://localhost:8080/"
        },
        "id": "WDzUaQwje58p",
        "outputId": "60554e90-e134-416f-d88b-7292a8148251"
      },
      "execution_count": null,
      "outputs": [
        {
          "output_type": "stream",
          "name": "stdout",
          "text": [
            "['123', '456']\n"
          ]
        }
      ]
    },
    {
      "cell_type": "code",
      "source": [
        "lst = [int(x) for x in input('정수 입력: ').split() if x.isdigit()]\n",
        "print(lst)"
      ],
      "metadata": {
        "colab": {
          "base_uri": "https://localhost:8080/"
        },
        "id": "kENXidfCjDAh",
        "outputId": "f12a8155-6c6f-4dc3-b390-4f41985c6240"
      },
      "execution_count": null,
      "outputs": [
        {
          "output_type": "stream",
          "name": "stdout",
          "text": [
            "정수 입력: 1 이 3 4 오\n",
            "[1, 3, 4]\n"
          ]
        }
      ]
    },
    {
      "cell_type": "code",
      "source": [
        "lst = [(x, y) for x in [1, 2, 3] for y in [4, 5, 6] if x != y]\n",
        "print(lst)"
      ],
      "metadata": {
        "colab": {
          "base_uri": "https://localhost:8080/"
        },
        "id": "hbJa1fapjDCR",
        "outputId": "eae10611-21e6-41d5-c3af-23c1dac1fa06"
      },
      "execution_count": null,
      "outputs": [
        {
          "output_type": "stream",
          "name": "stdout",
          "text": [
            "[(1, 4), (1, 5), (1, 6), (2, 4), (2, 5), (2, 6), (3, 4), (3, 5), (3, 6)]\n"
          ]
        }
      ]
    },
    {
      "cell_type": "code",
      "source": [
        "import math, random\n",
        "n = int(input('정수 입력: '))\n",
        "lst = []\n",
        "for i in range(n) :\n",
        "  lst.append(random.randint(1,100))\n",
        "\n",
        "print(lst)\n",
        "mean = sum(lst) / len(lst)\n",
        "vsum = 0\n",
        "for val in lst :\n",
        "  vsum += (val - mean)**2\n",
        "variance = vsum / len(lst)\n",
        "\n",
        "print('평균 : ', mean)\n",
        "print('분산 : ', variance)\n",
        "print('표준편차 : ', math.sqrt(variance))"
      ],
      "metadata": {
        "colab": {
          "base_uri": "https://localhost:8080/"
        },
        "id": "k2LqHh7xkSGC",
        "outputId": "df20e142-1fa0-418d-de23-98dc655a2d00"
      },
      "execution_count": null,
      "outputs": [
        {
          "output_type": "stream",
          "name": "stdout",
          "text": [
            "정수 입력: 10\n",
            "[71, 48, 12, 1, 55, 59, 35, 42, 68, 3]\n",
            "평균 :  39.4\n",
            "분산 :  609.44\n",
            "표준편차 :  24.686838598735157\n"
          ]
        }
      ]
    },
    {
      "cell_type": "code",
      "source": [
        "import random\n",
        "lst = [random.randint(1,6) for i in range(100)]\n",
        "fr = [len([x for x in lst if  x == i]) for i in range(1,7)]\n",
        "for i in range(6):\n",
        "  print(\"%d : %d\" %(i+1, fr[i]))"
      ],
      "metadata": {
        "colab": {
          "base_uri": "https://localhost:8080/"
        },
        "collapsed": true,
        "id": "OWJ_94WjlkPD",
        "outputId": "4614f901-a90b-4127-860f-c67d9048a9fc"
      },
      "execution_count": null,
      "outputs": [
        {
          "output_type": "stream",
          "name": "stdout",
          "text": [
            "1 : 23\n",
            "2 : 16\n",
            "3 : 17\n",
            "4 : 14\n",
            "5 : 11\n",
            "6 : 19\n"
          ]
        }
      ]
    },
    {
      "cell_type": "code",
      "source": [
        "import random\n",
        "lst = [random.randint(1,6) for i in range(100)]\n",
        "fr = [0]*6\n",
        "for i in lst :\n",
        "  fr[i-1] = fr[i-1] + 1\n",
        "for i in range(6):\n",
        "  print(\"%d : %d\" %(i+1, fr[i]))"
      ],
      "metadata": {
        "colab": {
          "base_uri": "https://localhost:8080/"
        },
        "id": "VfoBt9lktQZS",
        "outputId": "f1fb5d0b-5e53-4e3b-b87b-b203988e9e5b"
      },
      "execution_count": null,
      "outputs": [
        {
          "output_type": "stream",
          "name": "stdout",
          "text": [
            "1 : 14\n",
            "2 : 24\n",
            "3 : 18\n",
            "4 : 15\n",
            "5 : 16\n",
            "6 : 13\n"
          ]
        }
      ]
    },
    {
      "cell_type": "code",
      "source": [
        "dict = {'book' : '책'}\n",
        "dict['note']='노트'\n",
        "dict['pen']='연필'\n",
        "print(dict)\n",
        "print(dict['book'])"
      ],
      "metadata": {
        "colab": {
          "base_uri": "https://localhost:8080/"
        },
        "id": "G-4oe2IPx9Wa",
        "outputId": "3bee1715-bd8a-4e65-c08e-84fc4340003b"
      },
      "execution_count": null,
      "outputs": [
        {
          "output_type": "stream",
          "name": "stdout",
          "text": [
            "{'book': '책', 'note': '노트', 'pen': '연필'}\n",
            "책\n"
          ]
        }
      ]
    },
    {
      "cell_type": "code",
      "source": [
        "dict = {'book' : '책', 'note' : '노트', 'pen' : '연필'}\n",
        "print(dict.keys())\n",
        "print(dict.values())\n",
        "print(dict.items())\n",
        "for k, v in dict.items() :\n",
        "  print(k, ':', v)"
      ],
      "metadata": {
        "colab": {
          "base_uri": "https://localhost:8080/"
        },
        "id": "l23bfwAky6qa",
        "outputId": "91bd8dea-7317-41aa-823f-147c199a2257"
      },
      "execution_count": null,
      "outputs": [
        {
          "output_type": "stream",
          "name": "stdout",
          "text": [
            "dict_keys(['book', 'note', 'pen'])\n",
            "dict_values(['책', '노트', '연필'])\n",
            "dict_items([('book', '책'), ('note', '노트'), ('pen', '연필')])\n",
            "book : 책\n",
            "note : 노트\n",
            "pen : 연필\n"
          ]
        }
      ]
    },
    {
      "cell_type": "code",
      "source": [
        "a =(input('문자 입력: '))\n",
        "\n",
        "dict ={}\n",
        "\n",
        "for i in a:\n",
        "  if i in dict:\n",
        "    dict[i] += 1\n",
        "  else:\n",
        "    dict[i] = 1\n",
        "\n",
        "print(dict)"
      ],
      "metadata": {
        "colab": {
          "base_uri": "https://localhost:8080/"
        },
        "id": "zn4y-Hwb1Gry",
        "outputId": "55a0707d-4563-4767-a71c-059df8b60822"
      },
      "execution_count": null,
      "outputs": [
        {
          "output_type": "stream",
          "name": "stdout",
          "text": [
            "문자 입력: hello\n",
            "{'h': 1, 'e': 1, 'l': 2, 'o': 1}\n"
          ]
        }
      ]
    },
    {
      "cell_type": "code",
      "source": [
        "t = (10,20,30)\n",
        "print((lambda x: x[0])(t))\n",
        "print((lambda x: x[1])(t))"
      ],
      "metadata": {
        "colab": {
          "base_uri": "https://localhost:8080/"
        },
        "id": "hawluuz1838R",
        "outputId": "902c9bfe-efa9-42bc-8f72-f4a186a73273"
      },
      "execution_count": null,
      "outputs": [
        {
          "output_type": "stream",
          "name": "stdout",
          "text": [
            "10\n",
            "20\n"
          ]
        }
      ]
    },
    {
      "cell_type": "code",
      "source": [
        "dict = {'book': '책', 'note': '노트', 'pen': '연필'}\n",
        "\n",
        "sdict = sorted(dict.items(), key=lambda x: x[1])\n",
        "print(sdict)\n",
        "\n",
        "sdict = sorted(dict.items(), key=lambda x: x[0])\n",
        "print(sdict)"
      ],
      "metadata": {
        "colab": {
          "base_uri": "https://localhost:8080/"
        },
        "id": "3kzjnVOh9DXZ",
        "outputId": "5b6448e1-316b-4183-dddb-9f55e839733c"
      },
      "execution_count": null,
      "outputs": [
        {
          "output_type": "stream",
          "name": "stdout",
          "text": [
            "[('note', '노트'), ('pen', '연필'), ('book', '책')]\n",
            "[('book', '책'), ('note', '노트'), ('pen', '연필')]\n"
          ]
        }
      ]
    },
    {
      "cell_type": "code",
      "source": [
        "def square(n):\n",
        "  return n*n\n",
        "\n",
        "lst = [1,2,3,4,5]\n",
        "print(list(map(square, lst)))\n",
        "print(list(map(lambda n: n**2, lst)))"
      ],
      "metadata": {
        "colab": {
          "base_uri": "https://localhost:8080/"
        },
        "id": "yTdkyYw--Jui",
        "outputId": "b202acfa-61f9-4dd7-b1f0-b07b061a925f"
      },
      "execution_count": null,
      "outputs": [
        {
          "output_type": "stream",
          "name": "stdout",
          "text": [
            "[1, 4, 9, 16, 25]\n",
            "[1, 4, 9, 16, 25]\n"
          ]
        }
      ]
    },
    {
      "cell_type": "code",
      "source": [
        "print(\"사전 프로그램 시작... 종료는 q를 입력\")\n",
        "dict = {}\n",
        "\n",
        "while True:\n",
        "  st = input('$ ')\n",
        "  command = st[0]\n",
        "  if command == '<':\n",
        "    st = st[1:]\n",
        "    inputStr = st.split(':')\n",
        "    if len(inputStr) < 2:\n",
        "      print('입력 오류')\n",
        "    else:\n",
        "      dict[inputStr[0].strip()] = inputStr[1].strip()\n",
        "  elif command == '>':\n",
        "    st = st[1:]\n",
        "    inputStr = st.strip()\n",
        "    if inputStr in dict:\n",
        "      print(dict[inputStr])\n",
        "    else :\n",
        "      print('{}는 사전에 없음'.format(inputStr))\n",
        "  elif command == 'q':\n",
        "    break\n",
        "  else :\n",
        "    print('입력 오류')\n",
        "\n",
        "print(\"사전 프로그램 종료\")"
      ],
      "metadata": {
        "colab": {
          "base_uri": "https://localhost:8080/"
        },
        "id": "CxThh2oO_mgx",
        "outputId": "178a4e38-1a94-4209-d7f1-e30f68783616"
      },
      "execution_count": null,
      "outputs": [
        {
          "output_type": "stream",
          "name": "stdout",
          "text": [
            "사전 프로그램 시작... 종료는 q를 입력\n",
            "$ < one:하나\n",
            "$ < two:둘\n",
            "$ < three:셋\n",
            "$ > one\n",
            "하나\n",
            "$ > ㅂ\n",
            "ㅂ는 사전에 없음\n",
            "$ > q\n",
            "q는 사전에 없음\n",
            "$ q\n",
            "사전 프로그램 종료\n"
          ]
        }
      ]
    }
  ]
}" " 
