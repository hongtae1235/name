{
  "nbformat": 4,
  "nbformat_minor": 0,
  "metadata": {
    "colab": {
      "provenance": [],
      "authorship_tag": "ABX9TyMqaGyah7HAOArzz7HtZCGk",
      "include_colab_link": true
    },
    "kernelspec": {
      "name": "python3",
      "display_name": "Python 3"
    },
    "language_info": {
      "name": "python"
    }
  },
  "cells": [
    {
      "cell_type": "markdown",
      "metadata": {
        "id": "view-in-github",
        "colab_type": "text"
      },
      "source": [
        "<a href=\"https://colab.research.google.com/github/hongtae1235/name/blob/main/%ED%8C%8C%EC%9D%B4%EC%8D%AC3.ipynb\" target=\"_parent\"><img src=\"https://colab.research.google.com/assets/colab-badge.svg\" alt=\"Open In Colab\"/></a>"
      ]
    },
    {
      "cell_type": "code",
      "execution_count": null,
      "metadata": {
        "colab": {
          "base_uri": "https://localhost:8080/"
        },
        "id": "3X6b-0FwoMdF",
        "outputId": "cbb74173-9fdb-44a7-9f2d-318ce914680b"
      },
      "outputs": [
        {
          "output_type": "stream",
          "name": "stdout",
          "text": [
            "x= 10\n",
            "args= (1, 2, 3)\n",
            "x= 10\n",
            "kargs= {'a': 1, 'b': 2, 'c': 3}\n"
          ]
        }
      ],
      "source": [
        "def fun1(x, *args):\n",
        "  print('x=', x)\n",
        "  print('args=', args)\n",
        "\n",
        "def fun2(x, **kargs):\n",
        "  print('x=', x)\n",
        "  print('kargs=', kargs)\n",
        "\n",
        "fun1(10, 1, 2, 3)\n",
        "\n",
        "fun2(10, a=1, b=2, c=3)"
      ]
    },
    {
      "cell_type": "code",
      "source": [
        "s = {1, 5, 9, 3, 7, 3, 1}\n",
        "print(s)\n",
        "\n",
        "print(len(s))\n",
        "print(max(s))\n",
        "print(min(s))\n",
        "print(sum(s))"
      ],
      "metadata": {
        "colab": {
          "base_uri": "https://localhost:8080/"
        },
        "id": "GqMYL2ogtuJp",
        "outputId": "cc812856-2c8d-433a-9d94-85f56eb8b214"
      },
      "execution_count": null,
      "outputs": [
        {
          "output_type": "stream",
          "name": "stdout",
          "text": [
            "{1, 3, 5, 7, 9}\n",
            "5\n",
            "9\n",
            "1\n",
            "25\n"
          ]
        }
      ]
    },
    {
      "cell_type": "code",
      "source": [
        "s ={1, 5, 9, 3, 7, 0, 1}\n",
        "print(s)\n",
        "\n",
        "\n",
        "print(sorted(s, reverse=True))\n",
        "\n",
        "print(all(s))\n",
        "print(any(s))"
      ],
      "metadata": {
        "colab": {
          "base_uri": "https://localhost:8080/"
        },
        "id": "eDlqm13sr3kD",
        "outputId": "d46f2756-3a73-45fc-eabe-b51aca4a749f"
      },
      "execution_count": null,
      "outputs": [
        {
          "output_type": "stream",
          "name": "stdout",
          "text": [
            "{0, 1, 3, 5, 7, 9}\n",
            "[9, 7, 5, 3, 1, 0]\n",
            "False\n",
            "True\n"
          ]
        }
      ]
    },
    {
      "cell_type": "code",
      "source": [
        "s = {1, 2, 3}\n",
        "\n",
        "s.add(5)\n",
        "print(s)\n",
        "\n",
        "s.update([4, 5, 6])\n",
        "print(s)\n",
        "\n",
        "s.remove(3)\n",
        "print(s)\n",
        "\n",
        "s.discard(6)\n",
        "print(s)"
      ],
      "metadata": {
        "colab": {
          "base_uri": "https://localhost:8080/"
        },
        "id": "tu9XBqUtti-x",
        "outputId": "5be39cb3-b8cf-4782-8653-db1abdb6c1b0"
      },
      "execution_count": null,
      "outputs": [
        {
          "output_type": "stream",
          "name": "stdout",
          "text": [
            "{1, 2, 3, 5}\n",
            "{1, 2, 3, 4, 5, 6}\n",
            "{1, 2, 4, 5, 6}\n",
            "{1, 2, 4, 5}\n"
          ]
        }
      ]
    },
    {
      "cell_type": "code",
      "source": [
        "A = {1, 2, 3}\n",
        "B = {1, 2, 3}\n",
        "\n",
        "print(A == B)\n",
        "print(A < B)\n",
        "print(A <= B)"
      ],
      "metadata": {
        "colab": {
          "base_uri": "https://localhost:8080/"
        },
        "id": "tgr0IHIswOLU",
        "outputId": "9b554ef5-405d-47cd-95f0-da08cc2be543"
      },
      "execution_count": null,
      "outputs": [
        {
          "output_type": "stream",
          "name": "stdout",
          "text": [
            "True\n",
            "False\n",
            "True\n"
          ]
        }
      ]
    },
    {
      "cell_type": "code",
      "source": [
        "A = {1, 2, 3}\n",
        "B = {3, 4, 5}\n",
        "\n",
        "print(A | B)\n",
        "print(A & B)\n",
        "print(A - B)\n",
        "print(B - A)\n",
        "print(A ^ B)\n",
        "print(A - B | B - A)"
      ],
      "metadata": {
        "colab": {
          "base_uri": "https://localhost:8080/"
        },
        "id": "KpNCwcgGweOy",
        "outputId": "c3517184-e988-44b8-e345-842e33750716"
      },
      "execution_count": null,
      "outputs": [
        {
          "output_type": "stream",
          "name": "stdout",
          "text": [
            "{1, 2, 3, 4, 5}\n",
            "{3}\n",
            "{1, 2}\n",
            "{4, 5}\n",
            "{1, 2, 4, 5}\n",
            "{1, 2, 4, 5}\n"
          ]
        }
      ]
    },
    {
      "cell_type": "code",
      "source": [
        "def get_divisors(num):\n",
        "  divisors = set()\n",
        "  for i in range(1, num+1):\n",
        "    if num % i == 0:\n",
        "     divisors.add(i)\n",
        "  return divisors\n",
        "\n",
        "x = 48\n",
        "print(x, '의 약수 : ', get_divisors(x))\n",
        "y = 60\n",
        "print(y, '의 약수 : ', get_divisors(y))\n",
        "\n",
        "A = get_divisors(x)\n",
        "B = get_divisors(y)\n",
        "print(x, y, '의 공약수 : ', A.intersection(B))\n",
        "print(x, y, '의 최대공약수 : ', max(A.intersection(B)))"
      ],
      "metadata": {
        "colab": {
          "base_uri": "https://localhost:8080/"
        },
        "id": "Odgtoelvw1PK",
        "outputId": "07ae7498-6401-4478-8fa0-ef67a311f243"
      },
      "execution_count": null,
      "outputs": [
        {
          "output_type": "stream",
          "name": "stdout",
          "text": [
            "48 의 약수 :  {1, 2, 3, 4, 6, 8, 12, 16, 48, 24}\n",
            "60 의 약수 :  {1, 2, 3, 4, 5, 6, 10, 12, 15, 20, 60, 30}\n",
            "48 60 의 공약수 :  {1, 2, 3, 4, 6, 12}\n",
            "48 60 의 최대공약수 :  12\n"
          ]
        }
      ]
    },
    {
      "cell_type": "code",
      "source": [
        "lst = [1, 3, 5, 1, 3, 5, 9, 7]\n",
        "print(lst)\n",
        "\n",
        "s = set(lst)\n",
        "\n",
        "print(sorted(s, reverse=True))"
      ],
      "metadata": {
        "colab": {
          "base_uri": "https://localhost:8080/"
        },
        "id": "gEeez_QJ4goS",
        "outputId": "bff7f724-0687-4b22-efbb-c19c1b9dacca"
      },
      "execution_count": null,
      "outputs": [
        {
          "output_type": "stream",
          "name": "stdout",
          "text": [
            "[1, 3, 5, 1, 3, 5, 9, 7]\n",
            "[9, 7, 5, 3, 1]\n"
          ]
        }
      ]
    },
    {
      "cell_type": "code",
      "source": [
        "i = input('문자 입력 : ')\n",
        "\n",
        "mo = {'a', 'e', 'i', 'o', 'u'}\n",
        "\n",
        "print(''.join([x for x in i if x.lower() not in mo]))"
      ],
      "metadata": {
        "colab": {
          "base_uri": "https://localhost:8080/"
        },
        "id": "16sm-Q8F5wXC",
        "outputId": "29765a64-0b2d-4bec-fe52-2f536a034bac"
      },
      "execution_count": null,
      "outputs": [
        {
          "output_type": "stream",
          "name": "stdout",
          "text": [
            "문자 입력 : hello\n",
            "hll\n"
          ]
        }
      ]
    },
    {
      "cell_type": "code",
      "source": [
        "f = open('test.txt', 'w')\n",
        "\n",
        "f.write('Hello Taemin')\n",
        "f.write('hi\\n')\n",
        "print(f.write('test'))\n",
        "\n",
        "f.close()"
      ],
      "metadata": {
        "colab": {
          "base_uri": "https://localhost:8080/"
        },
        "id": "XJQzEd1c8N7u",
        "outputId": "352e71b7-f0e7-465a-d176-5eb29712fdde"
      },
      "execution_count": null,
      "outputs": [
        {
          "output_type": "stream",
          "name": "stdout",
          "text": [
            "4\n"
          ]
        }
      ]
    },
    {
      "cell_type": "code",
      "source": [
        "f = open('test.txt', 'r')\n",
        "print(f.read())\n",
        "f.close()\n",
        "\n",
        "f= open('test.txt')\n",
        "print(f.read(11))\n",
        "print(f.readline())\n",
        "print(f.readline())\n",
        "f.close()\n",
        "\n",
        "f = open('test.txt')\n",
        "print(f.readlines())\n",
        "f.close()"
      ],
      "metadata": {
        "colab": {
          "base_uri": "https://localhost:8080/"
        },
        "id": "4fVWDCiA_bgK",
        "outputId": "19d6fc43-d587-45e6-b80e-be9b27291e3d"
      },
      "execution_count": null,
      "outputs": [
        {
          "output_type": "stream",
          "name": "stdout",
          "text": [
            "Hello Taeminhi\n",
            "test\n",
            "Hello Taemi\n",
            "nhi\n",
            "\n",
            "test\n",
            "['Hello Taeminhi\\n', 'test']\n"
          ]
        }
      ]
    },
    {
      "cell_type": "code",
      "source": [
        "f = open('test.txt', 'r')\n",
        "for line in f:\n",
        "  print(line)\n",
        "\n",
        "f.seek(0)\n",
        "\n",
        "for line in f.readlines():\n",
        "    print(line)\n",
        "\n",
        "f.close()"
      ],
      "metadata": {
        "colab": {
          "base_uri": "https://localhost:8080/"
        },
        "id": "UDdezkGhGUHU",
        "outputId": "99d7199a-4668-4c52-fe96-513a29a3b545"
      },
      "execution_count": null,
      "outputs": [
        {
          "output_type": "stream",
          "name": "stdout",
          "text": [
            "Hello Taeminhi\n",
            "\n",
            "test\n",
            "Hello Taeminhi\n",
            "\n",
            "test\n"
          ]
        }
      ]
    },
    {
      "cell_type": "code",
      "source": [
        "f = open(\"simple.txt\", \"w\")\n",
        "\n",
        "f.write(\"Actions speak louder than words.\\n\")\n",
        "f.write(\"The pen is mightier than the sword.\\n\")\n",
        "f.write(\"When in Rome, do as the Romans do.\\n\")\n",
        "f.write(\"The early bird catches the worm.\\n\")\n",
        "f.write(\"Practice makes perfect.\\n\")\n",
        "\n",
        "f.close()"
      ],
      "metadata": {
        "id": "h4UYMXZ9PxHy"
      },
      "execution_count": null,
      "outputs": []
    },
    {
      "cell_type": "code",
      "source": [
        "def process(w):\n",
        "  output =\"\"\n",
        "  for ch in w:\n",
        "    if( ch.isalpha()):\n",
        "      output += ch\n",
        "  return output.lower()\n",
        "words = set()\n",
        "\n",
        "fname = input(\"입력 파일 이름: \")\n",
        "f = open(fname, \"r\")\n",
        "\n",
        "for line in f:\n",
        "        linewords = line.split()\n",
        "        for word in linewords:\n",
        "          words.add(process(word))\n",
        "\n",
        "print(\"사용된 단어의 개수=\", len(words))\n",
        "print(words)"
      ],
      "metadata": {
        "colab": {
          "base_uri": "https://localhost:8080/"
        },
        "id": "iAeNUrW8HpZb",
        "outputId": "9b43fd1a-8481-4c88-fd51-c6354e53f5d5"
      },
      "execution_count": null,
      "outputs": [
        {
          "output_type": "stream",
          "name": "stdout",
          "text": [
            "입력 파일 이름: simple.txt\n",
            "사용된 단어의 개수= 23\n",
            "{'do', 'speak', 'when', 'is', 'catches', 'bird', 'makes', 'as', 'romans', 'pen', 'words', 'than', 'mightier', 'practice', 'sword', 'louder', 'the', 'in', 'worm', 'actions', 'rome', 'perfect', 'early'}\n"
          ]
        }
      ]
    }
  ]
}