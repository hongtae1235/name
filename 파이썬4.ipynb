{
  "nbformat": 4,
  "nbformat_minor": 0,
  "metadata": {
    "colab": {
      "provenance": [],
      "authorship_tag": "ABX9TyO0j86FJWxwlWOTKLeER5Xs",
      "include_colab_link": true
    },
    "kernelspec": {
      "name": "python3",
      "display_name": "Python 3"
    },
    "language_info": {
      "name": "python"
    }
  },
  "cells": [
    {
      "cell_type": "markdown",
      "metadata": {
        "id": "view-in-github",
        "colab_type": "text"
      },
      "source": [
        "<a href=\"https://colab.research.google.com/github/hongtae1235/name/blob/main/%ED%8C%8C%EC%9D%B4%EC%8D%AC4.ipynb\" target=\"_parent\"><img src=\"https://colab.research.google.com/assets/colab-badge.svg\" alt=\"Open In Colab\"/></a>"
      ]
    },
    {
      "cell_type": "code",
      "execution_count": null,
      "metadata": {
        "colab": {
          "base_uri": "https://localhost:8080/"
        },
        "id": "uqEGzdPrMjsq",
        "outputId": "bb65ceef-09e0-4ae7-99b0-916a49d26330"
      },
      "outputs": [
        {
          "output_type": "stream",
          "name": "stdout",
          "text": [
            "1부터 100 사이의 숫자를 맞추시오\n",
            "숫자 입력: 50\n",
            "down\n",
            "숫자 입력: 40\n",
            "down\n",
            "숫자 입력: 30\n",
            "up\n",
            "숫자 입력: 35\n",
            "down\n",
            "숫자 입력: 34\n",
            "down\n",
            "숫자 입력: 33\n",
            "down\n",
            "숫자 입력: 32\n",
            "good!\n",
            "총 시도횟수= 7\n"
          ]
        }
      ],
      "source": [
        "import random\n",
        "\n",
        "tries = 0\n",
        "guess = 0;\n",
        "answer = random.randint(1,100)\n",
        "print(\"1부터 100 사이의 숫자를 맞추시오\")\n",
        "while guess != answer:\n",
        "    guess = int(input(\"숫자 입력: \"))\n",
        "    tries = tries + 1\n",
        "    if guess > answer:\n",
        "        print(\"down\")\n",
        "    elif guess < answer:\n",
        "        print(\"up\")\n",
        "\n",
        "print(\"good!\\n총 시도횟수=\", tries)"
      ]
    },
    {
      "cell_type": "code",
      "source": [
        "x, y = map(int, input(\"두 정수 입력2: \").split())\n",
        "a,b = x,y\n",
        "\n",
        "while y != 0:\n",
        "    t = x % y\n",
        "    x = y\n",
        "    y = t\n",
        "\n",
        "print('%d와 %d의 최대 공약수 = %d' % (a, b, x))\n",
        "print('%d와 %d의 최소 공배수 = %d' % (a, b, a*b/x))"
      ],
      "metadata": {
        "colab": {
          "base_uri": "https://localhost:8080/"
        },
        "id": "Ex76D0WaRsq5",
        "outputId": "79d02c33-932f-427a-f43e-9f4f67b75a10"
      },
      "execution_count": null,
      "outputs": [
        {
          "output_type": "stream",
          "name": "stdout",
          "text": [
            "두 정수 입력2: 36 24\n",
            "36와 24의 최대 공약수 = 12\n",
            "36와 24의 최소 공배수 = 72\n"
          ]
        }
      ]
    },
    {
      "cell_type": "code",
      "source": [
        "x, y = map(int, input(\"두 정수 입력: \").split())\n",
        "count = 0\n",
        "if x < y:\n",
        "  x, y = y, x\n",
        "  while x >= y:\n",
        "    x -= y\n",
        "    count += 1\n",
        "\n",
        "print(count, x)"
      ],
      "metadata": {
        "colab": {
          "base_uri": "https://localhost:8080/"
        },
        "id": "irMNa05TPUiy",
        "outputId": "e0dff704-4f9f-4aa2-d6c9-665b300ee7b7"
      },
      "execution_count": null,
      "outputs": [
        {
          "output_type": "stream",
          "name": "stdout",
          "text": [
            "두 정수 입력: 3 5\n",
            "1 2\n"
          ]
        }
      ]
    },
    {
      "cell_type": "code",
      "source": [
        "num = int(input(\"정수 입력 : \"))\n",
        "hap = 0\n",
        "while num != 0:\n",
        "  hap += num % 10\n",
        "  num //= 10\n",
        "print(hap)"
      ],
      "metadata": {
        "colab": {
          "base_uri": "https://localhost:8080/"
        },
        "id": "rbeftQwRbJ3p",
        "outputId": "d870a33f-ba3a-4a4b-cfe3-c77840397ea2"
      },
      "execution_count": null,
      "outputs": [
        {
          "output_type": "stream",
          "name": "stdout",
          "text": [
            "정수 입력 : 123\n",
            "6\n"
          ]
        }
      ]
    },
    {
      "cell_type": "code",
      "source": [
        "num = int(input(\"정수 입력 : \"))\n",
        "a = 2\n",
        "print(\"인수분해 = \", end= \" \")\n",
        "while num != 1:\n",
        "  if num % a != 0:\n",
        "    a += 1\n",
        "  num //= a\n",
        "  print(a, end = ' ')"
      ],
      "metadata": {
        "colab": {
          "base_uri": "https://localhost:8080/"
        },
        "id": "zi9XmjscbeCQ",
        "outputId": "eead37f9-1e61-4993-d746-856d24742359"
      },
      "execution_count": null,
      "outputs": [
        {
          "output_type": "stream",
          "name": "stdout",
          "text": [
            "정수 입력 : 36\n",
            "인수분해 =  2 2 3 3 "
          ]
        }
      ]
    },
    {
      "cell_type": "code",
      "source": [
        "for i in range(1, 10) :\n",
        "  for j in range(2, 10) :\n",
        "    print('%d * %d = %2d  ' % (j, i, i*j), end= ' ')\n",
        "  print()"
      ],
      "metadata": {
        "colab": {
          "base_uri": "https://localhost:8080/"
        },
        "id": "67WX20wKfoZI",
        "outputId": "02e76f00-f452-4900-aeb8-c2431ccf3ab2"
      },
      "execution_count": null,
      "outputs": [
        {
          "output_type": "stream",
          "name": "stdout",
          "text": [
            "2 * 1 =  2   3 * 1 =  3   4 * 1 =  4   5 * 1 =  5   6 * 1 =  6   7 * 1 =  7   8 * 1 =  8   9 * 1 =  9   \n",
            "2 * 2 =  4   3 * 2 =  6   4 * 2 =  8   5 * 2 = 10   6 * 2 = 12   7 * 2 = 14   8 * 2 = 16   9 * 2 = 18   \n",
            "2 * 3 =  6   3 * 3 =  9   4 * 3 = 12   5 * 3 = 15   6 * 3 = 18   7 * 3 = 21   8 * 3 = 24   9 * 3 = 27   \n",
            "2 * 4 =  8   3 * 4 = 12   4 * 4 = 16   5 * 4 = 20   6 * 4 = 24   7 * 4 = 28   8 * 4 = 32   9 * 4 = 36   \n",
            "2 * 5 = 10   3 * 5 = 15   4 * 5 = 20   5 * 5 = 25   6 * 5 = 30   7 * 5 = 35   8 * 5 = 40   9 * 5 = 45   \n",
            "2 * 6 = 12   3 * 6 = 18   4 * 6 = 24   5 * 6 = 30   6 * 6 = 36   7 * 6 = 42   8 * 6 = 48   9 * 6 = 54   \n",
            "2 * 7 = 14   3 * 7 = 21   4 * 7 = 28   5 * 7 = 35   6 * 7 = 42   7 * 7 = 49   8 * 7 = 56   9 * 7 = 63   \n",
            "2 * 8 = 16   3 * 8 = 24   4 * 8 = 32   5 * 8 = 40   6 * 8 = 48   7 * 8 = 56   8 * 8 = 64   9 * 8 = 72   \n",
            "2 * 9 = 18   3 * 9 = 27   4 * 9 = 36   5 * 9 = 45   6 * 9 = 54   7 * 9 = 63   8 * 9 = 72   9 * 9 = 81   \n"
          ]
        }
      ]
    },
    {
      "cell_type": "code",
      "source": [
        "for i in range(2, 10) :\n",
        "  for j in range(1, 10) :\n",
        "    print('%d * %d = %2d  ' % (i, j, i*j), end= ' ')\n",
        "  print()"
      ],
      "metadata": {
        "colab": {
          "base_uri": "https://localhost:8080/"
        },
        "id": "n4oheRVlgBHQ",
        "outputId": "192cc2ba-d8a6-4291-90bc-850c7a1b7f30"
      },
      "execution_count": null,
      "outputs": [
        {
          "output_type": "stream",
          "name": "stdout",
          "text": [
            "2 * 1 =  2   2 * 2 =  4   2 * 3 =  6   2 * 4 =  8   2 * 5 = 10   2 * 6 = 12   2 * 7 = 14   2 * 8 = 16   2 * 9 = 18   \n",
            "3 * 1 =  3   3 * 2 =  6   3 * 3 =  9   3 * 4 = 12   3 * 5 = 15   3 * 6 = 18   3 * 7 = 21   3 * 8 = 24   3 * 9 = 27   \n",
            "4 * 1 =  4   4 * 2 =  8   4 * 3 = 12   4 * 4 = 16   4 * 5 = 20   4 * 6 = 24   4 * 7 = 28   4 * 8 = 32   4 * 9 = 36   \n",
            "5 * 1 =  5   5 * 2 = 10   5 * 3 = 15   5 * 4 = 20   5 * 5 = 25   5 * 6 = 30   5 * 7 = 35   5 * 8 = 40   5 * 9 = 45   \n",
            "6 * 1 =  6   6 * 2 = 12   6 * 3 = 18   6 * 4 = 24   6 * 5 = 30   6 * 6 = 36   6 * 7 = 42   6 * 8 = 48   6 * 9 = 54   \n",
            "7 * 1 =  7   7 * 2 = 14   7 * 3 = 21   7 * 4 = 28   7 * 5 = 35   7 * 6 = 42   7 * 7 = 49   7 * 8 = 56   7 * 9 = 63   \n",
            "8 * 1 =  8   8 * 2 = 16   8 * 3 = 24   8 * 4 = 32   8 * 5 = 40   8 * 6 = 48   8 * 7 = 56   8 * 8 = 64   8 * 9 = 72   \n",
            "9 * 1 =  9   9 * 2 = 18   9 * 3 = 27   9 * 4 = 36   9 * 5 = 45   9 * 6 = 54   9 * 7 = 63   9 * 8 = 72   9 * 9 = 81   \n"
          ]
        }
      ]
    },
    {
      "cell_type": "code",
      "source": [
        "x = int(input(\"x 좌표 크기 입력 : \"))\n",
        "y = int(input(\"y 좌표 크기 입력 : \"))\n",
        "for i in range(1, x+1) :\n",
        "  for j in range(1, y+1) :\n",
        "    print('(%2d, %2d) ' % (i, j), end=' ')\n",
        "  print()"
      ],
      "metadata": {
        "colab": {
          "base_uri": "https://localhost:8080/"
        },
        "id": "R3VttgYmiRW3",
        "outputId": "6227c414-7dda-4b56-9f02-b2823bc82fe7"
      },
      "execution_count": null,
      "outputs": [
        {
          "output_type": "stream",
          "name": "stdout",
          "text": [
            "x 좌표 크기 입력 : 5\n",
            "y 좌표 크기 입력 : 5\n",
            "( 1,  1)  ( 1,  2)  ( 1,  3)  ( 1,  4)  ( 1,  5)  \n",
            "( 2,  1)  ( 2,  2)  ( 2,  3)  ( 2,  4)  ( 2,  5)  \n",
            "( 3,  1)  ( 3,  2)  ( 3,  3)  ( 3,  4)  ( 3,  5)  \n",
            "( 4,  1)  ( 4,  2)  ( 4,  3)  ( 4,  4)  ( 4,  5)  \n",
            "( 5,  1)  ( 5,  2)  ( 5,  3)  ( 5,  4)  ( 5,  5)  \n"
          ]
        }
      ]
    },
    {
      "cell_type": "code",
      "source": [
        "for a in range(1, 6):\n",
        "    print(\"*\" * a)\n",
        "for c in range(1, 2):\n",
        "    print(\" \")\n",
        "for b in range(5, 0, -1):\n",
        "    print(\"*\" * b)"
      ],
      "metadata": {
        "colab": {
          "base_uri": "https://localhost:8080/"
        },
        "id": "cvjWKlbnnhSH",
        "outputId": "7dddbebf-9c97-4ce8-a94b-a1535b006b51"
      },
      "execution_count": null,
      "outputs": [
        {
          "output_type": "stream",
          "name": "stdout",
          "text": [
            "*\n",
            "**\n",
            "***\n",
            "****\n",
            "*****\n",
            " \n",
            "*****\n",
            "****\n",
            "***\n",
            "**\n",
            "*\n"
          ]
        }
      ]
    },
    {
      "cell_type": "code",
      "source": [
        "for i in range(1, 6):\n",
        "  for j in range(1, i+1):\n",
        "    print(\"*\", end=\"\")\n",
        "  print()\n",
        "print()\n",
        "for i in range(1, 6):\n",
        "  for j in range(i, 6):\n",
        "    print(\"*\", end=\"\")\n",
        "  print()"
      ],
      "metadata": {
        "colab": {
          "base_uri": "https://localhost:8080/"
        },
        "id": "NrT7X8tRqXyQ",
        "outputId": "73519979-922f-47d3-8e3b-791c6fa8da91"
      },
      "execution_count": null,
      "outputs": [
        {
          "output_type": "stream",
          "name": "stdout",
          "text": [
            "*\n",
            "**\n",
            "***\n",
            "****\n",
            "*****\n",
            "\n",
            "*****\n",
            "****\n",
            "***\n",
            "**\n",
            "*\n"
          ]
        }
      ]
    },
    {
      "cell_type": "code",
      "source": [
        "for i in range(1, 11) :\n",
        "  for j in range(1, 11) :\n",
        "    if j >= i:\n",
        "     print(\"*\", end=\" \")\n",
        "    else :\n",
        "     print(\" \", end=\" \")\n",
        "  print()"
      ],
      "metadata": {
        "colab": {
          "base_uri": "https://localhost:8080/"
        },
        "id": "U6t5-kwQrGP_",
        "outputId": "cbef2f54-459f-472c-af73-d16222592c5c"
      },
      "execution_count": null,
      "outputs": [
        {
          "output_type": "stream",
          "name": "stdout",
          "text": [
            "* * * * * * * * * * \n",
            "  * * * * * * * * * \n",
            "    * * * * * * * * \n",
            "      * * * * * * * \n",
            "        * * * * * * \n",
            "          * * * * * \n",
            "            * * * * \n",
            "              * * * \n",
            "                * * \n",
            "                  * \n"
          ]
        }
      ]
    },
    {
      "cell_type": "code",
      "source": [
        "for i in range(1, 11) :\n",
        "  for j in range(1, 11) :\n",
        "    if j+i >= 11:\n",
        "     print(\"*\", end=\" \")\n",
        "    else :\n",
        "     print(\" \", end=\" \")\n",
        "  print()"
      ],
      "metadata": {
        "colab": {
          "base_uri": "https://localhost:8080/"
        },
        "id": "W0fqfi4YtryP",
        "outputId": "262e5f3f-85da-4ade-b750-6a5fac128eeb"
      },
      "execution_count": null,
      "outputs": [
        {
          "output_type": "stream",
          "name": "stdout",
          "text": [
            "                  * \n",
            "                * * \n",
            "              * * * \n",
            "            * * * * \n",
            "          * * * * * \n",
            "        * * * * * * \n",
            "      * * * * * * * \n",
            "    * * * * * * * * \n",
            "  * * * * * * * * * \n",
            "* * * * * * * * * * \n"
          ]
        }
      ]
    }
  ]
}