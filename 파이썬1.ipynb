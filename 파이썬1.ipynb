{
  "nbformat": 4,
  "nbformat_minor": 0,
  "metadata": {
    "colab": {
      "provenance": [],
      "authorship_tag": "ABX9TyPZr9QHwCoT8qzMzwHrxG7R",
      "include_colab_link": true
    },
    "kernelspec": {
      "name": "python3",
      "display_name": "Python 3"
    },
    "language_info": {
      "name": "python"
    }
  },
  "cells": [
    {
      "cell_type": "markdown",
      "metadata": {
        "id": "view-in-github",
        "colab_type": "text"
      },
      "source": [
        "<a href=\"https://colab.research.google.com/github/hongtae1235/name/blob/main/%ED%8C%8C%EC%9D%B4%EC%8D%AC1.ipynb\" target=\"_parent\"><img src=\"https://colab.research.google.com/assets/colab-badge.svg\" alt=\"Open In Colab\"/></a>"
      ]
    },
    {
      "cell_type": "code",
      "execution_count": null,
      "metadata": {
        "colab": {
          "base_uri": "https://localhost:8080/"
        },
        "id": "LbG2WSnbbJkF",
        "outputId": "5be13aba-44c1-4dcd-d943-17fe8309141e"
      },
      "outputs": [
        {
          "output_type": "stream",
          "name": "stdout",
          "text": [
            "정수 입력 :10\n",
            "[30, 18, 80, 53, 43, 1, 12, 50, 75, 16]\n",
            "평균 : 37.8\n",
            "분산 : 651.96\n",
            "표준편차 : 25.533507397143858\n"
          ]
        }
      ],
      "source": [
        "import math, random\n",
        "n = int(input('정수 입력 :'))\n",
        "lst = []\n",
        "for i in range(n) :\n",
        "  lst.append(random.randint(1, 100))\n",
        "\n",
        "print(lst)\n",
        "mean = sum(lst) / len(lst)\n",
        "vsum = 0\n",
        "for val in lst :\n",
        "  vsum += (val - mean) ** 2\n",
        "variance = vsum / len(lst)\n",
        "\n",
        "print('평균 :', mean)\n",
        "print('분산 :', variance)\n",
        "print('표준편차 :', math.sqrt(variance))"
      ]
    },
    {
      "cell_type": "code",
      "source": [
        "lst = [1,3,5,7,9]\n",
        "print(len(lst))\n",
        "print(max(lst))\n",
        "print(min(lst))\n",
        "print(sum(lst))"
      ],
      "metadata": {
        "colab": {
          "base_uri": "https://localhost:8080/"
        },
        "id": "oLffvHq9xsbi",
        "outputId": "0bf4b11d-7df1-4b55-8678-49e421913df8"
      },
      "execution_count": null,
      "outputs": [
        {
          "output_type": "stream",
          "name": "stdout",
          "text": [
            "5\n",
            "9\n",
            "1\n",
            "25\n"
          ]
        }
      ]
    },
    {
      "cell_type": "code",
      "source": [
        "import random\n",
        "n = int(input('정수 입력: '))\n",
        "lst = []\n",
        "for i in range(n):\n",
        "     lst.append(random.randint(1, 50))\n",
        "\n",
        "holist = []\n",
        "cnt = 0\n",
        "\n",
        "for j in lst:\n",
        "  if j % 2 == 1:\n",
        "    holist.append(j)\n",
        "    cnt += 1\n",
        "\n",
        "for j in range(n-1,-1,-1):\n",
        "  print(lst[j], end=\" \")"
      ],
      "metadata": {
        "colab": {
          "base_uri": "https://localhost:8080/"
        },
        "id": "rXzFDS1Cg9NR",
        "outputId": "1550b2ea-4dc3-4a84-b9cd-f3f1cd41bf4b"
      },
      "execution_count": null,
      "outputs": [
        {
          "output_type": "stream",
          "name": "stdout",
          "text": [
            "정수 입력: 10\n",
            "35 40 9 16 40 15 7 47 49 47 "
          ]
        }
      ]
    },
    {
      "cell_type": "code",
      "source": [
        "lst = list('ABCDEF')\n",
        "print(lst)\n",
        "print(lst[-1])\n",
        "print(lst[1: -1])\n",
        "print(lst[:])\n",
        "print(lst[::-1])"
      ],
      "metadata": {
        "colab": {
          "base_uri": "https://localhost:8080/"
        },
        "id": "_3eRgl3wwAJy",
        "outputId": "9d482f26-4c7e-46ae-f3e8-0b98765f5f79"
      },
      "execution_count": null,
      "outputs": [
        {
          "output_type": "stream",
          "name": "stdout",
          "text": [
            "['A', 'B', 'C', 'D', 'E', 'F']\n",
            "F\n",
            "['B', 'C', 'D', 'E']\n",
            "['A', 'B', 'C', 'D', 'E', 'F']\n",
            "['F', 'E', 'D', 'C', 'B', 'A']\n"
          ]
        }
      ]
    },
    {
      "cell_type": "code",
      "source": [
        "letter = ['A', 'B', 'C', 'D', 'E', 'F']\n",
        "print(letter[0:6])\n",
        "print(letter[:])\n",
        "print(letter[:-1])\n",
        "print(letter[::-2])\n",
        "print(letter[1::2])"
      ],
      "metadata": {
        "colab": {
          "base_uri": "https://localhost:8080/"
        },
        "id": "Bq-niNWuqUbp",
        "outputId": "81339691-8189-4073-d052-a07ffef73d6b"
      },
      "execution_count": null,
      "outputs": [
        {
          "output_type": "stream",
          "name": "stdout",
          "text": [
            "['A', 'B', 'C', 'D', 'E', 'F']\n",
            "['A', 'B', 'C', 'D', 'E', 'F']\n",
            "['A', 'B', 'C', 'D', 'E']\n",
            "['F', 'D', 'B']\n",
            "['B', 'D', 'F']\n"
          ]
        }
      ]
    },
    {
      "cell_type": "code",
      "source": [
        "alist = [1, 2, 3, 4, 5]\n",
        "blist = alist\n",
        "print(id(alist))\n",
        "print(id(blist))\n",
        "alist[0] = 10\n",
        "print(blist)"
      ],
      "metadata": {
        "colab": {
          "base_uri": "https://localhost:8080/"
        },
        "id": "rJaJCqO9vUxK",
        "outputId": "5409cb9a-6de7-4f50-a1e1-84ae3e4c1283"
      },
      "execution_count": null,
      "outputs": [
        {
          "output_type": "stream",
          "name": "stdout",
          "text": [
            "140405379211264\n",
            "140405379211264\n",
            "[10, 2, 3, 4, 5]\n"
          ]
        }
      ]
    },
    {
      "cell_type": "code",
      "source": [
        "alist = [1,2,3,4,5]\n",
        "blist = list(alist)\n",
        "clist = alist[:]\n",
        "print(id(alist))\n",
        "print(id(blist))\n",
        "print(id(clist))\n",
        "alist[0] = 10\n",
        "print(blist)\n",
        "print(clist)"
      ],
      "metadata": {
        "colab": {
          "base_uri": "https://localhost:8080/"
        },
        "id": "3m6zqTa8vivT",
        "outputId": "6143c581-64f1-40a4-e611-8980d8de9df6"
      },
      "execution_count": null,
      "outputs": [
        {
          "output_type": "stream",
          "name": "stdout",
          "text": [
            "140405381265216\n",
            "140405682658944\n",
            "140405381255616\n",
            "[1, 2, 3, 4, 5]\n",
            "[1, 2, 3, 4, 5]\n"
          ]
        }
      ]
    },
    {
      "cell_type": "code",
      "source": [
        "lst = [1,2,3,2,3]\n",
        "print(lst.index(3))\n",
        "print(lst.count(3))\n",
        "if 4 in lst :\n",
        "  print(lst.index(4))\n",
        "else :\n",
        "  print('원소 4는 리스트에 없음')"
      ],
      "metadata": {
        "colab": {
          "base_uri": "https://localhost:8080/"
        },
        "id": "sXIZugDD3t5J",
        "outputId": "c2d408ff-4a11-4168-c888-4707c3886e78"
      },
      "execution_count": null,
      "outputs": [
        {
          "output_type": "stream",
          "name": "stdout",
          "text": [
            "2\n",
            "2\n",
            "원소 4는 리스트에 없음\n"
          ]
        }
      ]
    },
    {
      "cell_type": "code",
      "source": [
        "lst = [1, 3, 4]\n",
        "lst.append(5)\n",
        "print(lst)\n",
        "lst.insert(1,2)\n",
        "print(lst)\n",
        "lst.extend([6,7,8])\n",
        "print(lst)"
      ],
      "metadata": {
        "colab": {
          "base_uri": "https://localhost:8080/"
        },
        "id": "pv2GNHiu4IGa",
        "outputId": "dc7fb4ce-eecd-402e-e217-966596110ff1"
      },
      "execution_count": null,
      "outputs": [
        {
          "output_type": "stream",
          "name": "stdout",
          "text": [
            "[1, 3, 4, 5]\n",
            "[1, 2, 3, 4, 5]\n",
            "[1, 2, 3, 4, 5, 6, 7, 8]\n"
          ]
        }
      ]
    },
    {
      "cell_type": "code",
      "source": [
        "lst = [1, 2, 3, 4, 3]\n",
        "lst.remove(3)\n",
        "print(lst)\n",
        "lst.pop(2)\n",
        "print(lst)\n",
        "del lst[2]\n",
        "print(lst)"
      ],
      "metadata": {
        "colab": {
          "base_uri": "https://localhost:8080/"
        },
        "id": "OvfEL9ak4ZpK",
        "outputId": "aefb4cb9-44b4-45c6-e4ab-93c92e5050ba"
      },
      "execution_count": null,
      "outputs": [
        {
          "output_type": "stream",
          "name": "stdout",
          "text": [
            "[1, 2, 4, 3]\n",
            "[1, 2, 3]\n",
            "[1, 2]\n"
          ]
        }
      ]
    },
    {
      "cell_type": "code",
      "source": [
        "alist = [1,5,3,4,2]\n",
        "alist.sort(reverse=False)\n",
        "print(alist)\n",
        "blist = sorted(alist, reverse=True)\n",
        "print('alist = ', alist)\n",
        "print('blist = ', blist)"
      ],
      "metadata": {
        "colab": {
          "base_uri": "https://localhost:8080/"
        },
        "id": "cbm1WfkH46BK",
        "outputId": "f60701d0-7a23-4530-8bf6-0da6cf945ceb"
      },
      "execution_count": null,
      "outputs": [
        {
          "output_type": "stream",
          "name": "stdout",
          "text": [
            "[1, 2, 3, 4, 5]\n",
            "alist =  [1, 2, 3, 4, 5]\n",
            "blist =  [5, 4, 3, 2, 1]\n"
          ]
        }
      ]
    }
  ]
}